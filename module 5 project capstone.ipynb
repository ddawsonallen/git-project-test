{
 "cells": [
  {
   "cell_type": "markdown",
   "id": "c5f124bf",
   "metadata": {},
   "source": [
    "# __Powerlifting Demographic Test Project:__\n",
    "## An inital test using Jupyter Notebooks\n",
    "\n",
    "This project is an inital attempt at using both Jupyter Notebooks and Github in unison. The project aims at finding insights regarding powerlifters through basic filtering of data along with graphical representations. The project also attempts to understand what types of equipment powerlifters prefer to use in order for a company to begin their market research for new project development."
   ]
  },
  {
   "cell_type": "code",
   "execution_count": 1,
   "id": "855a4066",
   "metadata": {},
   "outputs": [
    {
     "name": "stderr",
     "output_type": "stream",
     "text": [
      "/Users/dawsonallen/opt/anaconda3/lib/python3.8/site-packages/IPython/core/interactiveshell.py:3165: DtypeWarning: Columns (35) have mixed types.Specify dtype option on import or set low_memory=False.\n",
      "  has_raised = await self.run_ast_nodes(code_ast.body, cell_name,\n"
     ]
    },
    {
     "data": {
      "text/html": [
       "<div>\n",
       "<style scoped>\n",
       "    .dataframe tbody tr th:only-of-type {\n",
       "        vertical-align: middle;\n",
       "    }\n",
       "\n",
       "    .dataframe tbody tr th {\n",
       "        vertical-align: top;\n",
       "    }\n",
       "\n",
       "    .dataframe thead th {\n",
       "        text-align: right;\n",
       "    }\n",
       "</style>\n",
       "<table border=\"1\" class=\"dataframe\">\n",
       "  <thead>\n",
       "    <tr style=\"text-align: right;\">\n",
       "      <th></th>\n",
       "      <th>Name</th>\n",
       "      <th>Sex</th>\n",
       "      <th>Event</th>\n",
       "      <th>Equipment</th>\n",
       "      <th>Age</th>\n",
       "      <th>AgeClass</th>\n",
       "      <th>Division</th>\n",
       "      <th>BodyweightKg</th>\n",
       "      <th>WeightClassKg</th>\n",
       "      <th>Squat1Kg</th>\n",
       "      <th>...</th>\n",
       "      <th>McCulloch</th>\n",
       "      <th>Glossbrenner</th>\n",
       "      <th>IPFPoints</th>\n",
       "      <th>Tested</th>\n",
       "      <th>Country</th>\n",
       "      <th>Federation</th>\n",
       "      <th>Date</th>\n",
       "      <th>MeetCountry</th>\n",
       "      <th>MeetState</th>\n",
       "      <th>MeetName</th>\n",
       "    </tr>\n",
       "  </thead>\n",
       "  <tbody>\n",
       "    <tr>\n",
       "      <th>0</th>\n",
       "      <td>Abbie Murphy</td>\n",
       "      <td>F</td>\n",
       "      <td>SBD</td>\n",
       "      <td>Wraps</td>\n",
       "      <td>29.0</td>\n",
       "      <td>24-34</td>\n",
       "      <td>F-OR</td>\n",
       "      <td>59.8</td>\n",
       "      <td>60</td>\n",
       "      <td>80.0</td>\n",
       "      <td>...</td>\n",
       "      <td>324.16</td>\n",
       "      <td>286.42</td>\n",
       "      <td>511.15</td>\n",
       "      <td>NaN</td>\n",
       "      <td>NaN</td>\n",
       "      <td>GPC-AUS</td>\n",
       "      <td>10/27/18</td>\n",
       "      <td>Australia</td>\n",
       "      <td>VIC</td>\n",
       "      <td>Melbourne Cup</td>\n",
       "    </tr>\n",
       "    <tr>\n",
       "      <th>1</th>\n",
       "      <td>Abbie Tuong</td>\n",
       "      <td>F</td>\n",
       "      <td>SBD</td>\n",
       "      <td>Wraps</td>\n",
       "      <td>29.0</td>\n",
       "      <td>24-34</td>\n",
       "      <td>F-OR</td>\n",
       "      <td>58.5</td>\n",
       "      <td>60</td>\n",
       "      <td>100.0</td>\n",
       "      <td>...</td>\n",
       "      <td>378.07</td>\n",
       "      <td>334.16</td>\n",
       "      <td>595.65</td>\n",
       "      <td>NaN</td>\n",
       "      <td>NaN</td>\n",
       "      <td>GPC-AUS</td>\n",
       "      <td>10/27/18</td>\n",
       "      <td>Australia</td>\n",
       "      <td>VIC</td>\n",
       "      <td>Melbourne Cup</td>\n",
       "    </tr>\n",
       "    <tr>\n",
       "      <th>2</th>\n",
       "      <td>Ainslee Hooper</td>\n",
       "      <td>F</td>\n",
       "      <td>B</td>\n",
       "      <td>Raw</td>\n",
       "      <td>40.0</td>\n",
       "      <td>40-44</td>\n",
       "      <td>F-OR</td>\n",
       "      <td>55.4</td>\n",
       "      <td>56</td>\n",
       "      <td>NaN</td>\n",
       "      <td>...</td>\n",
       "      <td>38.56</td>\n",
       "      <td>34.12</td>\n",
       "      <td>313.97</td>\n",
       "      <td>NaN</td>\n",
       "      <td>NaN</td>\n",
       "      <td>GPC-AUS</td>\n",
       "      <td>10/27/18</td>\n",
       "      <td>Australia</td>\n",
       "      <td>VIC</td>\n",
       "      <td>Melbourne Cup</td>\n",
       "    </tr>\n",
       "    <tr>\n",
       "      <th>3</th>\n",
       "      <td>Amy Moldenhauer</td>\n",
       "      <td>F</td>\n",
       "      <td>SBD</td>\n",
       "      <td>Wraps</td>\n",
       "      <td>23.0</td>\n",
       "      <td>20-23</td>\n",
       "      <td>F-OR</td>\n",
       "      <td>60.0</td>\n",
       "      <td>60</td>\n",
       "      <td>-105.0</td>\n",
       "      <td>...</td>\n",
       "      <td>345.61</td>\n",
       "      <td>305.37</td>\n",
       "      <td>547.04</td>\n",
       "      <td>NaN</td>\n",
       "      <td>NaN</td>\n",
       "      <td>GPC-AUS</td>\n",
       "      <td>10/27/18</td>\n",
       "      <td>Australia</td>\n",
       "      <td>VIC</td>\n",
       "      <td>Melbourne Cup</td>\n",
       "    </tr>\n",
       "    <tr>\n",
       "      <th>4</th>\n",
       "      <td>Andrea Rowan</td>\n",
       "      <td>F</td>\n",
       "      <td>SBD</td>\n",
       "      <td>Wraps</td>\n",
       "      <td>45.0</td>\n",
       "      <td>45-49</td>\n",
       "      <td>F-OR</td>\n",
       "      <td>104.0</td>\n",
       "      <td>110</td>\n",
       "      <td>120.0</td>\n",
       "      <td>...</td>\n",
       "      <td>338.91</td>\n",
       "      <td>274.56</td>\n",
       "      <td>550.08</td>\n",
       "      <td>NaN</td>\n",
       "      <td>NaN</td>\n",
       "      <td>GPC-AUS</td>\n",
       "      <td>10/27/18</td>\n",
       "      <td>Australia</td>\n",
       "      <td>VIC</td>\n",
       "      <td>Melbourne Cup</td>\n",
       "    </tr>\n",
       "  </tbody>\n",
       "</table>\n",
       "<p>5 rows × 37 columns</p>\n",
       "</div>"
      ],
      "text/plain": [
       "              Name Sex Event Equipment   Age AgeClass Division  BodyweightKg  \\\n",
       "0     Abbie Murphy   F   SBD     Wraps  29.0    24-34     F-OR          59.8   \n",
       "1      Abbie Tuong   F   SBD     Wraps  29.0    24-34     F-OR          58.5   \n",
       "2   Ainslee Hooper   F     B       Raw  40.0    40-44     F-OR          55.4   \n",
       "3  Amy Moldenhauer   F   SBD     Wraps  23.0    20-23     F-OR          60.0   \n",
       "4     Andrea Rowan   F   SBD     Wraps  45.0    45-49     F-OR         104.0   \n",
       "\n",
       "  WeightClassKg  Squat1Kg  ...  McCulloch  Glossbrenner  IPFPoints  Tested  \\\n",
       "0            60      80.0  ...     324.16        286.42     511.15     NaN   \n",
       "1            60     100.0  ...     378.07        334.16     595.65     NaN   \n",
       "2            56       NaN  ...      38.56         34.12     313.97     NaN   \n",
       "3            60    -105.0  ...     345.61        305.37     547.04     NaN   \n",
       "4           110     120.0  ...     338.91        274.56     550.08     NaN   \n",
       "\n",
       "   Country  Federation      Date  MeetCountry  MeetState       MeetName  \n",
       "0      NaN     GPC-AUS  10/27/18    Australia        VIC  Melbourne Cup  \n",
       "1      NaN     GPC-AUS  10/27/18    Australia        VIC  Melbourne Cup  \n",
       "2      NaN     GPC-AUS  10/27/18    Australia        VIC  Melbourne Cup  \n",
       "3      NaN     GPC-AUS  10/27/18    Australia        VIC  Melbourne Cup  \n",
       "4      NaN     GPC-AUS  10/27/18    Australia        VIC  Melbourne Cup  \n",
       "\n",
       "[5 rows x 37 columns]"
      ]
     },
     "execution_count": 1,
     "metadata": {},
     "output_type": "execute_result"
    }
   ],
   "source": [
    "#/ importing libraries to mine and plot data /#\n",
    "\n",
    "import pandas as pd\n",
    "import numpy as np\n",
    "import matplotlib.pyplot as plt\n",
    "import seaborn as sns\n",
    "\n",
    "data = pd.read_csv('/Users/dawsonallen/Downloads/openpowerlifting.csv')\n",
    "data.head()"
   ]
  },
  {
   "cell_type": "markdown",
   "id": "50ec2481",
   "metadata": {},
   "source": [
    "In order to understand what products to produce for each customer profile, it is important to begin aggregating said data into categories based on gender, event, age, or any other variable provided. In the first bar chart below, we can identify that the age range for use of each specific type of equipment does not lead us in a specific direction. This might not be the best inital path for where our data is guiding us, but atleast we can check other options."
   ]
  },
  {
   "cell_type": "code",
   "execution_count": 5,
   "id": "9553bf64",
   "metadata": {},
   "outputs": [
    {
     "data": {
      "text/plain": [
       "<AxesSubplot:xlabel='Equipment', ylabel='Age'>"
      ]
     },
     "execution_count": 5,
     "metadata": {},
     "output_type": "execute_result"
    },
    {
     "data": {
      "image/png": "[encoded data removed]",
      "text/plain": [
       "<Figure size 864x720 with 1 Axes>"
      ]
     },
     "metadata": {
      "needs_background": "light"
     },
     "output_type": "display_data"
    }
   ],
   "source": [
    "#/ change figure size and plot simple bar chart of equipment vs age /#\n",
    "\n",
    "plt.figure(figsize=(12,10))\n",
    "sns.barplot(x=data.Equipment, y=data.Age,data=data)"
   ]
  },
  {
   "cell_type": "markdown",
   "id": "236819d9",
   "metadata": {},
   "source": [
    "When we aggregate the data between equipment and age it can become difficult to see similarities and differences in consuming patterns. We can see that age is not a good indicator of equipment use when looking from a far perspective. Below, equipment is shown in histogram format, and we can see that the majority of equipment for all powerlifters involves single ply suits and raw lifting (knee sleeves, belts, and singlets)."
   ]
  },
  {
   "cell_type": "code",
   "execution_count": 6,
   "id": "5cad3429",
   "metadata": {},
   "outputs": [
    {
     "data": {
      "text/plain": [
       "(array([6.79230e+04, 0.00000e+00, 3.48880e+05, 0.00000e+00, 0.00000e+00,\n",
       "        5.95803e+05, 0.00000e+00, 3.59520e+04, 0.00000e+00, 1.70000e+01]),\n",
       " array([0. , 0.4, 0.8, 1.2, 1.6, 2. , 2.4, 2.8, 3.2, 3.6, 4. ]),\n",
       " <BarContainer object of 10 artists>)"
      ]
     },
     "execution_count": 6,
     "metadata": {},
     "output_type": "execute_result"
    },
    {
     "data": {
      "image/png": "[encoded data removed]",
      "text/plain": [
       "<Figure size 432x288 with 1 Axes>"
      ]
     },
     "metadata": {
      "needs_background": "light"
     },
     "output_type": "display_data"
    }
   ],
   "source": [
    "plt.hist(data.Equipment)"
   ]
  },
  {
   "cell_type": "markdown",
   "id": "a8f6a641",
   "metadata": {},
   "source": [
    "Below is the aggregation of the dataframe into a female only dataframe. This dataframe will allow for easier manipulation of the data on a consumer profile basis. In the bar graph below, we can see that female lifters tend to use raw equipment more often than any other equipment. Men tend to use single ply more often over all the past records from the open powerlifting data. It is also important to note that there is a larger majority of male powerlifters than female powerlifters, but recent trends are showing a decrease in this gap."
   ]
  },
  {
   "cell_type": "code",
   "execution_count": 15,
   "id": "e7d9b390",
   "metadata": {},
   "outputs": [
    {
     "data": {
      "text/html": [
       "<div>\n",
       "<style scoped>\n",
       "    .dataframe tbody tr th:only-of-type {\n",
       "        vertical-align: middle;\n",
       "    }\n",
       "\n",
       "    .dataframe tbody tr th {\n",
       "        vertical-align: top;\n",
       "    }\n",
       "\n",
       "    .dataframe thead th {\n",
       "        text-align: right;\n",
       "    }\n",
       "</style>\n",
       "<table border=\"1\" class=\"dataframe\">\n",
       "  <thead>\n",
       "    <tr style=\"text-align: right;\">\n",
       "      <th></th>\n",
       "      <th>Name</th>\n",
       "      <th>Sex</th>\n",
       "      <th>Event</th>\n",
       "      <th>Equipment</th>\n",
       "      <th>Age</th>\n",
       "      <th>AgeClass</th>\n",
       "      <th>Division</th>\n",
       "      <th>BodyweightKg</th>\n",
       "      <th>WeightClassKg</th>\n",
       "      <th>Squat1Kg</th>\n",
       "      <th>...</th>\n",
       "      <th>McCulloch</th>\n",
       "      <th>Glossbrenner</th>\n",
       "      <th>IPFPoints</th>\n",
       "      <th>Tested</th>\n",
       "      <th>Country</th>\n",
       "      <th>Federation</th>\n",
       "      <th>Date</th>\n",
       "      <th>MeetCountry</th>\n",
       "      <th>MeetState</th>\n",
       "      <th>MeetName</th>\n",
       "    </tr>\n",
       "  </thead>\n",
       "  <tbody>\n",
       "    <tr>\n",
       "      <th>0</th>\n",
       "      <td>Abbie Murphy</td>\n",
       "      <td>F</td>\n",
       "      <td>SBD</td>\n",
       "      <td>Wraps</td>\n",
       "      <td>29.0</td>\n",
       "      <td>24-34</td>\n",
       "      <td>F-OR</td>\n",
       "      <td>59.8</td>\n",
       "      <td>60</td>\n",
       "      <td>80.0</td>\n",
       "      <td>...</td>\n",
       "      <td>324.16</td>\n",
       "      <td>286.42</td>\n",
       "      <td>511.15</td>\n",
       "      <td>NaN</td>\n",
       "      <td>NaN</td>\n",
       "      <td>GPC-AUS</td>\n",
       "      <td>10/27/18</td>\n",
       "      <td>Australia</td>\n",
       "      <td>VIC</td>\n",
       "      <td>Melbourne Cup</td>\n",
       "    </tr>\n",
       "    <tr>\n",
       "      <th>1</th>\n",
       "      <td>Abbie Tuong</td>\n",
       "      <td>F</td>\n",
       "      <td>SBD</td>\n",
       "      <td>Wraps</td>\n",
       "      <td>29.0</td>\n",
       "      <td>24-34</td>\n",
       "      <td>F-OR</td>\n",
       "      <td>58.5</td>\n",
       "      <td>60</td>\n",
       "      <td>100.0</td>\n",
       "      <td>...</td>\n",
       "      <td>378.07</td>\n",
       "      <td>334.16</td>\n",
       "      <td>595.65</td>\n",
       "      <td>NaN</td>\n",
       "      <td>NaN</td>\n",
       "      <td>GPC-AUS</td>\n",
       "      <td>10/27/18</td>\n",
       "      <td>Australia</td>\n",
       "      <td>VIC</td>\n",
       "      <td>Melbourne Cup</td>\n",
       "    </tr>\n",
       "    <tr>\n",
       "      <th>3</th>\n",
       "      <td>Amy Moldenhauer</td>\n",
       "      <td>F</td>\n",
       "      <td>SBD</td>\n",
       "      <td>Wraps</td>\n",
       "      <td>23.0</td>\n",
       "      <td>20-23</td>\n",
       "      <td>F-OR</td>\n",
       "      <td>60.0</td>\n",
       "      <td>60</td>\n",
       "      <td>-105.0</td>\n",
       "      <td>...</td>\n",
       "      <td>345.61</td>\n",
       "      <td>305.37</td>\n",
       "      <td>547.04</td>\n",
       "      <td>NaN</td>\n",
       "      <td>NaN</td>\n",
       "      <td>GPC-AUS</td>\n",
       "      <td>10/27/18</td>\n",
       "      <td>Australia</td>\n",
       "      <td>VIC</td>\n",
       "      <td>Melbourne Cup</td>\n",
       "    </tr>\n",
       "    <tr>\n",
       "      <th>4</th>\n",
       "      <td>Andrea Rowan</td>\n",
       "      <td>F</td>\n",
       "      <td>SBD</td>\n",
       "      <td>Wraps</td>\n",
       "      <td>45.0</td>\n",
       "      <td>45-49</td>\n",
       "      <td>F-OR</td>\n",
       "      <td>104.0</td>\n",
       "      <td>110</td>\n",
       "      <td>120.0</td>\n",
       "      <td>...</td>\n",
       "      <td>338.91</td>\n",
       "      <td>274.56</td>\n",
       "      <td>550.08</td>\n",
       "      <td>NaN</td>\n",
       "      <td>NaN</td>\n",
       "      <td>GPC-AUS</td>\n",
       "      <td>10/27/18</td>\n",
       "      <td>Australia</td>\n",
       "      <td>VIC</td>\n",
       "      <td>Melbourne Cup</td>\n",
       "    </tr>\n",
       "    <tr>\n",
       "      <th>5</th>\n",
       "      <td>April Alvarez</td>\n",
       "      <td>F</td>\n",
       "      <td>SBD</td>\n",
       "      <td>Wraps</td>\n",
       "      <td>37.0</td>\n",
       "      <td>35-39</td>\n",
       "      <td>F-OR</td>\n",
       "      <td>74.0</td>\n",
       "      <td>75</td>\n",
       "      <td>127.5</td>\n",
       "      <td>...</td>\n",
       "      <td>354.74</td>\n",
       "      <td>312.20</td>\n",
       "      <td>596.18</td>\n",
       "      <td>NaN</td>\n",
       "      <td>NaN</td>\n",
       "      <td>GPC-AUS</td>\n",
       "      <td>10/27/18</td>\n",
       "      <td>Australia</td>\n",
       "      <td>VIC</td>\n",
       "      <td>Melbourne Cup</td>\n",
       "    </tr>\n",
       "  </tbody>\n",
       "</table>\n",
       "<p>5 rows × 37 columns</p>\n",
       "</div>"
      ],
      "text/plain": [
       "              Name Sex Event Equipment   Age AgeClass Division  BodyweightKg  \\\n",
       "0     Abbie Murphy   F   SBD     Wraps  29.0    24-34     F-OR          59.8   \n",
       "1      Abbie Tuong   F   SBD     Wraps  29.0    24-34     F-OR          58.5   \n",
       "3  Amy Moldenhauer   F   SBD     Wraps  23.0    20-23     F-OR          60.0   \n",
       "4     Andrea Rowan   F   SBD     Wraps  45.0    45-49     F-OR         104.0   \n",
       "5    April Alvarez   F   SBD     Wraps  37.0    35-39     F-OR          74.0   \n",
       "\n",
       "  WeightClassKg  Squat1Kg  ...  McCulloch  Glossbrenner  IPFPoints  Tested  \\\n",
       "0            60      80.0  ...     324.16        286.42     511.15     NaN   \n",
       "1            60     100.0  ...     378.07        334.16     595.65     NaN   \n",
       "3            60    -105.0  ...     345.61        305.37     547.04     NaN   \n",
       "4           110     120.0  ...     338.91        274.56     550.08     NaN   \n",
       "5            75     127.5  ...     354.74        312.20     596.18     NaN   \n",
       "\n",
       "   Country  Federation      Date  MeetCountry  MeetState       MeetName  \n",
       "0      NaN     GPC-AUS  10/27/18    Australia        VIC  Melbourne Cup  \n",
       "1      NaN     GPC-AUS  10/27/18    Australia        VIC  Melbourne Cup  \n",
       "3      NaN     GPC-AUS  10/27/18    Australia        VIC  Melbourne Cup  \n",
       "4      NaN     GPC-AUS  10/27/18    Australia        VIC  Melbourne Cup  \n",
       "5      NaN     GPC-AUS  10/27/18    Australia        VIC  Melbourne Cup  \n",
       "\n",
       "[5 rows x 37 columns]"
      ]
     },
     "execution_count": 15,
     "metadata": {},
     "output_type": "execute_result"
    }
   ],
   "source": [
    "#/aggregate the dataframe into a female only dataframe for specific user application /#\n",
    "\n",
    "female = data[data.Sex == 'F']\n",
    "female_sbd = female[female.Event == 'SBD']\n",
    "female_sbd.head()"
   ]
  },
  {
   "cell_type": "code",
   "execution_count": 17,
   "id": "a8e65c2d",
   "metadata": {},
   "outputs": [],
   "source": [
    "#/ male only dataframe /#\n",
    "\n",
    "male = data[data.Sex == 'M']\n",
    "male_sbd = male[male.Event == 'SBD']"
   ]
  },
  {
   "cell_type": "code",
   "execution_count": 42,
   "id": "6376244a",
   "metadata": {
    "scrolled": true
   },
   "outputs": [
    {
     "data": {
      "text/plain": [
       "Text(0.5, 1.0, 'Female vs Male Lifters Equipment')"
      ]
     },
     "execution_count": 42,
     "metadata": {},
     "output_type": "execute_result"
    },
    {
     "data": {
      "image/png": "[encoded data removed]",
      "text/plain": [
       "<Figure size 432x288 with 1 Axes>"
      ]
     },
     "metadata": {
      "needs_background": "light"
     },
     "output_type": "display_data"
    }
   ],
   "source": [
    "#/ plot dual bar graph for equipment comparison /#\n",
    "\n",
    "plt.hist(female_sbd.Equipment, alpha=0.7, color='blue')\n",
    "plt.hist(male_sbd.Equipment, alpha=0.4, color='grey')\n",
    "plt.legend(['female lifters','male lifters'])\n",
    "plt.title(\"Female vs Male Lifters Equipment\")"
   ]
  },
  {
   "cell_type": "code",
   "execution_count": 35,
   "id": "29913096",
   "metadata": {},
   "outputs": [
    {
     "name": "stdout",
     "output_type": "stream",
     "text": [
      "670026 male lifters in SBD\n",
      "138364 female lifters in SBD\n"
     ]
    }
   ],
   "source": [
    "#/ comparison of male to female lifters for ratio comparison and customer group size /#\n",
    "\n",
    "total_male_sbd_lifters = len(male_sbd.Name)\n",
    "total_female_sbd_lifters = len(female_sbd.Name)\n",
    "print(str(total_male_sbd_lifters) + ' male lifters in SBD')\n",
    "print(str(total_female_sbd_lifters) + ' female lifters in SBD')"
   ]
  },
  {
   "cell_type": "code",
   "execution_count": 40,
   "id": "cc662ea0",
   "metadata": {},
   "outputs": [
    {
     "name": "stdout",
     "output_type": "stream",
     "text": [
      "4.8424879303865165\n"
     ]
    }
   ],
   "source": [
    "#/ ratio of male to female lifters /#\n",
    "\n",
    "ratio = total_male_sbd_lifters / total_female_sbd_lifters\n",
    "print(ratio)"
   ]
  }
 ],
 "metadata": {
  "kernelspec": {
   "display_name": "Python 3",
   "language": "python",
   "name": "python3"
  },
  "language_info": {
   "codemirror_mode": {
    "name": "ipython",
    "version": 3
   },
   "file_extension": ".py",
   "mimetype": "text/x-python",
   "name": "python",
   "nbconvert_exporter": "python",
   "pygments_lexer": "ipython3",
   "version": "3.8.8"
  }
 },
 "nbformat": 4,
 "nbformat_minor": 5
}
